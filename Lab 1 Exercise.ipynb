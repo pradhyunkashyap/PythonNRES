{
 "cells": [
  {
   "cell_type": "code",
   "execution_count": 39,
   "metadata": {},
   "outputs": [],
   "source": [
    "#Question1\n",
    "def enter_list_of_words(word_list):\n",
    "    max_length = 0\n",
    "    for word in word_list:\n",
    "        if len(word) > max_length:\n",
    "            max_length = len(word)\n",
    "            result = word\n",
    "    \n",
    "    return max_length, result\n",
    "\n"
   ]
  },
  {
   "cell_type": "code",
   "execution_count": 40,
   "metadata": {},
   "outputs": [
    {
     "data": {
      "text/plain": [
       "(11, 'agriculture')"
      ]
     },
     "execution_count": 40,
     "metadata": {},
     "output_type": "execute_result"
    }
   ],
   "source": [
    "enter_list_of_words(['agriculture','classroom','newworld'])"
   ]
  },
  {
   "cell_type": "code",
   "execution_count": 61,
   "metadata": {},
   "outputs": [
    {
     "data": {
      "text/plain": [
       "12"
      ]
     },
     "execution_count": 61,
     "metadata": {},
     "output_type": "execute_result"
    }
   ],
   "source": [
    "#Question2\n",
    "def count_char(string):\n",
    "    return len(set(list(string)))\n",
    "\n",
    "count_char('abcdefghijkl')"
   ]
  },
  {
   "cell_type": "code",
   "execution_count": 58,
   "metadata": {},
   "outputs": [
    {
     "name": "stdout",
     "output_type": "stream",
     "text": [
      "Ascending Order is [1, 14, 50]\n",
      "Descending Order is [50, 14, 1]\n"
     ]
    }
   ],
   "source": [
    "#Question3\n",
    "dict1 = {'aza':1,'smith':50,'rock':14}\n",
    "listn = list(dict1.values())\n",
    "listn.sort()\n",
    "print('Ascending Order is',listn)\n",
    "\n",
    "del listn\n",
    "\n",
    "listn=list(dict1.values())\n",
    "listn.sort(reverse=True)\n",
    "print('Descending Order is',listn)\n",
    "        \n",
    "    "
   ]
  },
  {
   "cell_type": "code",
   "execution_count": null,
   "metadata": {},
   "outputs": [],
   "source": []
  }
 ],
 "metadata": {
  "kernelspec": {
   "display_name": "Python 3",
   "language": "python",
   "name": "python3"
  },
  "language_info": {
   "codemirror_mode": {
    "name": "ipython",
    "version": 3
   },
   "file_extension": ".py",
   "mimetype": "text/x-python",
   "name": "python",
   "nbconvert_exporter": "python",
   "pygments_lexer": "ipython3",
   "version": "3.7.3"
  }
 },
 "nbformat": 4,
 "nbformat_minor": 2
}
